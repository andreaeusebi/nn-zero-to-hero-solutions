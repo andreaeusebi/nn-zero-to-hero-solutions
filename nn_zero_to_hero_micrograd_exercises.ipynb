{
  "nbformat": 4,
  "nbformat_minor": 0,
  "metadata": {
    "colab": {
      "provenance": []
    },
    "kernelspec": {
      "name": "python3",
      "display_name": "Python 3"
    },
    "language_info": {
      "name": "python"
    }
  },
  "cells": [
    {
      "cell_type": "markdown",
      "source": [
        "# micrograd exercises\n",
        "\n",
        "1. watch the [micrograd video](https://www.youtube.com/watch?v=VMj-3S1tku0) on YouTube\n",
        "2. come back and complete these exercises to level up :)"
      ],
      "metadata": {
        "id": "JnGHatCI51JP"
      }
    },
    {
      "cell_type": "markdown",
      "source": [
        "## section 1: derivatives"
      ],
      "metadata": {
        "id": "OFt6NKOz6iBZ"
      }
    },
    {
      "cell_type": "code",
      "source": [
        "# here is a mathematical expression that takes 3 inputs and produces one output\n",
        "from math import sin, cos\n",
        "\n",
        "def f(a, b, c):\n",
        "  return -a**3 + sin(3*b) - 1.0/c + b**2.5 - a**0.5\n",
        "\n",
        "print(f(2, 3, 4))"
      ],
      "metadata": {
        "id": "3Jx9fCXl5xHd",
        "outputId": "05300d6b-ed50-4a59-8763-49757cbc0da0",
        "colab": {
          "base_uri": "https://localhost:8080/"
        }
      },
      "execution_count": null,
      "outputs": [
        {
          "output_type": "stream",
          "name": "stdout",
          "text": [
            "6.336362190988558\n"
          ]
        }
      ]
    },
    {
      "cell_type": "code",
      "source": [
        "# write the function df that returns the analytical gradient of f\n",
        "# i.e. use your skills from calculus to take the derivative, then implement the formula\n",
        "# if you do not calculus then feel free to ask wolframalpha, e.g.:\n",
        "# https://www.wolframalpha.com/input?i=d%2Fda%28sin%283*a%29%29%29\n",
        "\n",
        "def gradf(a, b, c):\n",
        "\n",
        "  # df_da\n",
        "  df_da = - 3 * a**2 - 0.5 * a**(-0.5)\n",
        "\n",
        "  # df_db\n",
        "  df_db = cos(3*b) * 3 + 2.5 * b**1.5\n",
        "\n",
        "  # df_dc\n",
        "  # -1.0/c = c**(-1)\n",
        "  df_dc = c**(-2)\n",
        "\n",
        "  return [df_da, df_db, df_dc] # todo, return [df/da, df/db, df/dc]\n",
        "\n",
        "# expected answer is the list of\n",
        "ans = [-12.353553390593273, 10.25699027111255, 0.0625]\n",
        "yours = gradf(2, 3, 4)\n",
        "for dim in range(3):\n",
        "  ok = 'OK' if abs(yours[dim] - ans[dim]) < 1e-5 else 'WRONG!'\n",
        "  print(f\"{ok} for dim {dim}: expected {ans[dim]}, yours returns {yours[dim]}\")\n"
      ],
      "metadata": {
        "id": "qXaH59eL9zxf",
        "colab": {
          "base_uri": "https://localhost:8080/"
        },
        "outputId": "59f87772-78d8-4797-b360-944f281e11e3"
      },
      "execution_count": null,
      "outputs": [
        {
          "output_type": "stream",
          "name": "stdout",
          "text": [
            "OK for dim 0: expected -12.353553390593273, yours returns -12.353553390593273\n",
            "OK for dim 1: expected 10.25699027111255, yours returns 10.25699027111255\n",
            "OK for dim 2: expected 0.0625, yours returns 0.0625\n"
          ]
        }
      ]
    },
    {
      "cell_type": "code",
      "source": [
        "# now estimate the gradient numerically without any calculus, using\n",
        "# the approximation we used in the video.\n",
        "# you should not call the function df from the last cell\n",
        "\n",
        "# -----------\n",
        "# The formula is f(x+h) - f(x) / h\n",
        "# -----------\n",
        "\n",
        "def gradientNumerical(a, b, c):\n",
        "  # define step size h\n",
        "  h = 10e-7\n",
        "\n",
        "  # df_da\n",
        "  df_da = (f(a+h, b, c) - f(a, b, c)) / h\n",
        "\n",
        "  # df_db\n",
        "  df_db = (f(a, b+h, c) - f(a, b, c)) / h\n",
        "\n",
        "  # df_dc\n",
        "  df_dc = (f(a, b, c+h) - f(a, b, c)) / h\n",
        "\n",
        "  return [df_da, df_db, df_dc]\n",
        "\n",
        "numerical_grad = gradientNumerical(2, 3, 4) # TODO\n",
        "# -----------\n",
        "\n",
        "for dim in range(3):\n",
        "  ok = 'OK' if abs(numerical_grad[dim] - ans[dim]) < 1e-5 else 'WRONG!'\n",
        "  print(f\"{ok} for dim {dim}: expected {ans[dim]}, yours returns {numerical_grad[dim]}\")\n"
      ],
      "metadata": {
        "id": "_27n-KTA9Qla",
        "colab": {
          "base_uri": "https://localhost:8080/"
        },
        "outputId": "46b5cfc9-9593-4250-c399-9499dabc6342"
      },
      "execution_count": null,
      "outputs": [
        {
          "output_type": "stream",
          "name": "stdout",
          "text": [
            "OK for dim 0: expected -12.353553390593273, yours returns -12.353559348809995\n",
            "OK for dim 1: expected 10.25699027111255, yours returns 10.256991666679482\n",
            "OK for dim 2: expected 0.0625, yours returns 0.062499984743169534\n"
          ]
        }
      ]
    },
    {
      "cell_type": "code",
      "source": [
        "# there is an alternative formula that provides a much better numerical\n",
        "# approximation to the derivative of a function.\n",
        "# learn about it here: https://en.wikipedia.org/wiki/Symmetric_derivative\n",
        "# implement it. confirm that for the same step size h this version gives a\n",
        "# better approximation.\n",
        "\n",
        "# -----------\n",
        "# The formula is f(x+h) - f(x-h) / 2*h\n",
        "# -----------\n",
        "\n",
        "def gradientNumericalSymmetric(a, b, c):\n",
        "  # define step size h\n",
        "  h = 5e-7\n",
        "\n",
        "  # df_da\n",
        "  df_da = (f(a+h, b, c) - f(a-h, b, c)) / (2*h)\n",
        "\n",
        "  # df_db\n",
        "  df_db = (f(a, b+h, c) - f(a, b-h, c)) / (2*h)\n",
        "\n",
        "  # df_dc\n",
        "  df_dc = (f(a, b, c+h) - f(a, b, c-h)) / (2*h)\n",
        "\n",
        "  return [df_da, df_db, df_dc]\n",
        "# -----------\n",
        "\n",
        "numerical_grad2 = gradientNumericalSymmetric(2, 3, 4) # TODO\n",
        "# -----------\n",
        "\n",
        "for dim in range(3):\n",
        "  ok = 'OK' if abs(numerical_grad2[dim] - ans[dim]) < 1e-5 else 'WRONG!'\n",
        "  print(f\"{ok} for dim {dim}: expected {ans[dim]}, yours returns {numerical_grad2[dim]}\")\n",
        "  print(f\"Error from standard function: {abs(numerical_grad[dim] - ans[dim])}\")\n",
        "  print(f\"Error from better function: {abs(numerical_grad2[dim] - ans[dim])}\")\n"
      ],
      "metadata": {
        "id": "BUqsGb5o_h2P",
        "colab": {
          "base_uri": "https://localhost:8080/"
        },
        "outputId": "fc52a18b-3cb8-495b-ed28-2e2c919e08b4"
      },
      "execution_count": null,
      "outputs": [
        {
          "output_type": "stream",
          "name": "stdout",
          "text": [
            "OK for dim 0: expected -12.353553390593273, yours returns -12.353553390909155\n",
            "Error from standard function: 5.958216721779763e-06\n",
            "Error from better function: 3.1588243132318894e-10\n",
            "OK for dim 1: expected 10.25699027111255, yours returns 10.25699027401572\n",
            "Error from standard function: 1.3955669331267018e-06\n",
            "Error from better function: 2.9031710369054053e-09\n",
            "OK for dim 2: expected 0.0625, yours returns 0.06250000073038109\n",
            "Error from standard function: 1.5256830465659732e-08\n",
            "Error from better function: 7.303810889425222e-10\n"
          ]
        }
      ]
    },
    {
      "cell_type": "markdown",
      "source": [
        "## section 2: support for softmax"
      ],
      "metadata": {
        "id": "tklF9s_4AtlI"
      }
    },
    {
      "cell_type": "code",
      "source": [
        "# Value class starter code, with many functions taken out\n",
        "from math import exp, log\n",
        "\n",
        "class Value:\n",
        "\n",
        "  def __init__(self, data, _children=(), _op='', label=''):\n",
        "    self.data = data\n",
        "    self.grad = 0.0\n",
        "    self._backward = lambda: None\n",
        "    self._prev = set(_children)\n",
        "    self._op = _op\n",
        "    self.label = label\n",
        "\n",
        "  def __repr__(self):\n",
        "    return f\"Value(data={self.data})\"\n",
        "\n",
        "  def __add__(self, other): # exactly as in the video\n",
        "    other = other if isinstance(other, Value) else Value(other)\n",
        "    out = Value(self.data + other.data, (self, other), '+')\n",
        "\n",
        "    def _backward():\n",
        "      self.grad += 1.0 * out.grad\n",
        "      other.grad += 1.0 * out.grad\n",
        "    out._backward = _backward\n",
        "\n",
        "    return out\n",
        "\n",
        "  # ------\n",
        "  # re-implement all the other functions needed for the exercises below\n",
        "  # your code here\n",
        "  # TODO\n",
        "\n",
        "  def __mul__(self, other):\n",
        "    other = other if isinstance(other, Value) else Value(other)\n",
        "    out = Value(self.data * other.data, (self, other), '*')\n",
        "\n",
        "    def _backward():\n",
        "      self.grad += other.data * out.grad\n",
        "      other.grad += self.data * out.grad\n",
        "\n",
        "    out._backward = _backward\n",
        "\n",
        "    return out\n",
        "\n",
        "  # It is probably better to define division as a particular case of multiplication\n",
        "  def __truediv__(self, other):\n",
        "    other = other if isinstance(other, Value) else Value(other)\n",
        "    out = Value(self.data / other.data, (self, other), \"/\")\n",
        "\n",
        "    def _backward():\n",
        "      # f = a / b = a * (1/b) = (1/b) * a = a * b**(-1)\n",
        "      # df_da = 1/b\n",
        "      # df_db = a * -1 * b**(-2)\n",
        "      self.grad += (1.0 / other.data) * out.grad\n",
        "      other.grad += - self.data * (other.data**(-2)) * out.grad\n",
        "\n",
        "    out._backward = _backward\n",
        "\n",
        "    return out\n",
        "\n",
        "  def exp(self):\n",
        "    out = Value(exp(self.data), (self,), \"exp\")\n",
        "\n",
        "    def _backward():\n",
        "      self.grad += exp(self.data) * out.grad\n",
        "\n",
        "    out._backward = _backward\n",
        "\n",
        "    return out\n",
        "\n",
        "  def log(self):\n",
        "    out = Value(log(self.data), (self,), \"log\")\n",
        "\n",
        "    def _backward():\n",
        "      self.grad += 1.0/self.data * out.grad\n",
        "\n",
        "    out._backward = _backward\n",
        "\n",
        "    return out\n",
        "\n",
        "  def __radd__(self, other): # other + self\n",
        "    return self + other\n",
        "\n",
        "  def __neg__(self): # - self\n",
        "    return self * (-1.0)\n",
        "\n",
        "  # ------\n",
        "\n",
        "  def backward(self): # exactly as in video\n",
        "    topo = []\n",
        "    visited = set()\n",
        "    def build_topo(v):\n",
        "      if v not in visited:\n",
        "        visited.add(v)\n",
        "        for child in v._prev:\n",
        "          build_topo(child)\n",
        "        topo.append(v)\n",
        "    build_topo(self)\n",
        "\n",
        "    self.grad = 1.0\n",
        "    for node in reversed(topo):\n",
        "      node._backward()"
      ],
      "metadata": {
        "id": "nAPe_RVrCTeO"
      },
      "execution_count": null,
      "outputs": []
    },
    {
      "cell_type": "code",
      "source": [
        "# without referencing our code/video __too__ much, make this cell work\n",
        "# you'll have to implement (in some cases re-implemented) a number of functions\n",
        "# of the Value object, similar to what we've seen in the video.\n",
        "# instead of the squared error loss this implements the negative log likelihood\n",
        "# loss, which is very often used in classification.\n",
        "\n",
        "# this is the softmax function\n",
        "# https://en.wikipedia.org/wiki/Softmax_function\n",
        "def softmax(logits):\n",
        "  counts = [logit.exp() for logit in logits]\n",
        "  denominator = sum(counts)\n",
        "  out = [c / denominator for c in counts]\n",
        "  return out\n",
        "\n",
        "# this is the negative log likelihood loss function, pervasive in classification\n",
        "logits = [Value(0.0), Value(3.0), Value(-2.0), Value(1.0)]\n",
        "probs = softmax(logits)\n",
        "loss = -probs[3].log() # dim 3 acts as the label for this input example\n",
        "loss.backward()\n",
        "print(loss.data)\n",
        "\n",
        "ans = [0.041772570515350445, 0.8390245074625319, 0.005653302662216329, -0.8864503806400986]\n",
        "for dim in range(4):\n",
        "  ok = 'OK' if abs(logits[dim].grad - ans[dim]) < 1e-5 else 'WRONG!'\n",
        "  print(f\"{ok} for dim {dim}: expected {ans[dim]}, yours returns {logits[dim].grad}\")\n"
      ],
      "metadata": {
        "id": "VgWvwVQNAvnI",
        "colab": {
          "base_uri": "https://localhost:8080/"
        },
        "outputId": "87858fa6-eef4-4650-9afb-661b0b827ce2"
      },
      "execution_count": null,
      "outputs": [
        {
          "output_type": "stream",
          "name": "stdout",
          "text": [
            "2.1755153626167147\n",
            "OK for dim 0: expected 0.041772570515350445, yours returns 0.041772570515350445\n",
            "OK for dim 1: expected 0.8390245074625319, yours returns 0.8390245074625319\n",
            "OK for dim 2: expected 0.005653302662216329, yours returns 0.005653302662216329\n",
            "OK for dim 3: expected -0.8864503806400986, yours returns -0.886450380640099\n"
          ]
        }
      ]
    },
    {
      "cell_type": "code",
      "source": [
        "# verify the gradient using the torch library\n",
        "# torch should give you the exact same gradient\n",
        "import torch\n",
        "\n",
        "logits_tensor = torch.tensor([0.0, 3.0, -2.0, 1.0], requires_grad=True)\n",
        "print(f\"Logits tensor: {logits_tensor}\")\n",
        "\n",
        "probs_tensor = torch.softmax(logits_tensor, dim=0)\n",
        "print(f\"Probs tensor: {probs_tensor}\")\n",
        "\n",
        "loss_tensor = - probs_tensor[3].log()\n",
        "print(f\"Loss tensor: {loss_tensor}\")\n",
        "\n",
        "loss_tensor.backward()\n",
        "\n",
        "print(f\"Gradients of the logits: {logits_tensor.grad}\")"
      ],
      "metadata": {
        "id": "q7ca1SVAGG1S",
        "colab": {
          "base_uri": "https://localhost:8080/"
        },
        "outputId": "bc777d9f-7eb6-4f3f-99da-b6e62c343dc1"
      },
      "execution_count": null,
      "outputs": [
        {
          "output_type": "stream",
          "name": "stdout",
          "text": [
            "Logits tensor: tensor([ 0.,  3., -2.,  1.], requires_grad=True)\n",
            "Probs tensor: tensor([0.0418, 0.8390, 0.0057, 0.1135], grad_fn=<SoftmaxBackward0>)\n",
            "Loss tensor: 2.1755154132843018\n",
            "Gradients of the logits: tensor([ 0.0418,  0.8390,  0.0057, -0.8865])\n"
          ]
        }
      ]
    }
  ]
}